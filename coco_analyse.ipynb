{
 "cells": [
  {
   "cell_type": "markdown",
   "metadata": {},
   "source": [
    "### 目的\n",
    "1. Nemo数据集的平均面积，将个各个面积的百分比聚类？用kmp算法？maybe\n",
    "2. FIgLib数据集的平均面积，聚类，看看各个时间对应的平均面积....okay\n",
    "3. 制造一个新的合理的数据集"
   ]
  },
  {
   "cell_type": "code",
   "execution_count": null,
   "metadata": {},
   "outputs": [],
   "source": [
    "import json\n",
    "from matplotlib import pyplot as plt\n",
    "import numpy as np\n",
    "from pathlib import Path\n",
    "import pandas as pd\n",
    "import seaborn as sns"
   ]
  },
  {
   "cell_type": "code",
   "execution_count": null,
   "metadata": {},
   "outputs": [],
   "source": [
    "total_data=[]\n",
    "x=100000\n",
    "def get_ratio(path):\n",
    "    with open(str(path), 'r') as f:\n",
    "        data = json.load(f)\n",
    "        annotations = data[\"annotations\"]\n",
    "        images = data[\"images\"]\n",
    "\n",
    "    img_area_list = []\n",
    "    anno_area_list = []\n",
    "    proportion_list = []\n",
    "    for anno in annotations:\n",
    "        for img in images:\n",
    "            if img['id']==anno['image_id']:\n",
    "                break\n",
    "        if img['id']!=anno['image_id']:break\n",
    "        img_area = img[\"height\"] * img[\"width\"]\n",
    "        img_area_list.append(img_area)\n",
    "        area=anno['bbox'][2]*anno['bbox'][3]\n",
    "        anno_area_list.append(area)\n",
    "        proportion_list.append(area / img_area)\n",
    "        # total_data.append({'ratio':area / img_area,'dataset':path.stem})\n",
    "    return proportion_list\n",
    "path=Path('../coco_annotations')\n",
    "paths=[i for i in path.iterdir()if i.suffix =='.json']\n",
    "paths.sort()\n",
    "print(paths)\n",
    "path_items=[i.stem for i in paths]\n",
    "print(path_items)\n",
    "ratios=[]\n",
    "for p in paths:\n",
    "    ratios.append(get_ratio(p))\n",
    "    print(len(ratios[-1]))\n",
    "for ratio,path_item in zip(ratios,path_items):\n",
    "    ratio = (ratio * (1 + x // len(ratio)))[:x]\n",
    "    print(len(ratio))\n",
    "    for r in ratio:\n",
    "        total_data.append({'ratio':r,'dataset':path_item})\n",
    "\n",
    "total_data=pd.DataFrame(total_data)\n",
    "total_data\n",
    " "
   ]
  },
  {
   "cell_type": "code",
   "execution_count": null,
   "metadata": {},
   "outputs": [],
   "source": [
    "sns.set_theme(style=\"white\")\n",
    "s=sns.kdeplot(\n",
    "    data=total_data,\n",
    "    x=\"ratio\", hue=\"dataset\",\n",
    "    multiple=\"stack\", \n",
    "    clip=(0,0.5),\n",
    "    bw_adjust=1.5,\n",
    "    # log_scale=True,\n",
    "    # levels=[0,0.001,0.002,0.003,0.004,0.005, 0.01,0.02,0.03,0.04,0.05,0.1,0.2,0.3,0.4,0.5],\n",
    "    # fill=False,\n",
    "    # palette=\"ch:rot=-.25,hue=1,light=.75\",\n",
    "    # cumulative=True,\n",
    "    common_grid=True,\n",
    "    # common_norm=True,\n",
    "    # levels=10,\n",
    "    # cut=0.1,\n",
    "    # fill=True, #palette=\"crest\",\n",
    "    alpha=.8, linewidth=0,\n",
    ")\n",
    "s.set_xscale('log')\n",
    "plt.savefig('test.png',transparent=True)\n",
    "\n",
    "# s.set_xticks([0,0.01,0.05])\n",
    "# s.set_xticks([0,0.001,0.002,0.003,0.004,0.005, 0.01,0.02,0.03,0.04,0.05,0.1,0.2,0.3,0.4,0.5])\n",
    "# plt.xscale(\"log\")\n",
    "# s.set_xticklabels(['0','a','b','c','d','e','0','a','b','c','d','e','0','a','b','c'])\n",
    "# plt.xticks([0,0.001,0.002,0.003,0.004,0.005, 0.01,0.02,0.03,0.04,0.05,0.1,0.2,0.3,0.4,0.5])\n"
   ]
  },
  {
   "cell_type": "code",
   "execution_count": null,
   "metadata": {},
   "outputs": [],
   "source": [
    "# sns.set_theme(style=\"whitegrid\")\n",
    "# hue_order=['figlib_train','figlib_full_train']\n",
    "hue_order=['figlib_full_val','figlib_val']\n",
    "sns.set_style('white')\n",
    "sns.displot(\n",
    "    data=total_data,\n",
    "    x=\"ratio\", hue=\"dataset\",hue_order=hue_order,\n",
    "    kind=\"kde\", height=6,\n",
    "    multiple=\"stack\", clip=(0, 0.2),\n",
    "    # palette=\"ch:rot=-.25,hue=1,light=.75\",\n",
    ")\n",
    "# plt.xticks([0,0.001,0.002,0.003,0.004,0.005, 0.01,0.02,0.03,0.04,0.05,0.1,0.2,0.3,0.4,0.5])\n",
    "# plt.show()\n",
    "plt.savefig('test.png',transparent=True)\n",
    "# diamonds"
   ]
  },
  {
   "cell_type": "code",
   "execution_count": null,
   "metadata": {},
   "outputs": [],
   "source": [
    "# 生成一些随机数据\n",
    "data = sns.load_dataset(\"tips\")\n",
    "ax = sns.displot(x=\"total_bill\", data=data)\n",
    "\n",
    "# 设置x轴的刻度和标签\n",
    "plt.xticks([0, 0.01, 0.1, 1], [\"Low\", \"Medium\", \"High\", \"Very High\"])\n",
    "\n",
    "# 设置x轴的缩放方式为对数缩放\n",
    "plt.xscale(\"log\")\n",
    "\n",
    "plt.show()"
   ]
  }
 ],
 "metadata": {
  "language_info": {
   "name": "python"
  },
  "orig_nbformat": 4
 },
 "nbformat": 4,
 "nbformat_minor": 2
}
